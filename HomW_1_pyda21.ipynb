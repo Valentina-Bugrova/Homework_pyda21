{
 "cells": [
  {
   "cell_type": "markdown",
   "id": "e9891774",
   "metadata": {},
   "source": [
    "### Задание 1\n",
    "Даны 2 переменных, в которых хранятся строки произвольной длины: phrase_1 и phrase_2.\n",
    "Напишите код, который проверяет какая из этих строк длиннее.\n",
    "\n",
    "Примеры работы программы:\n",
    " \n",
    "phrase_1='Насколько проще было бы писать программы, если бы не заказчики’\n",
    "phrase_2='640Кб должно хватить для любых задач. Билл Гейтс (по легенде)'"
   ]
  },
  {
   "cell_type": "code",
   "execution_count": 5,
   "id": "844a89b1",
   "metadata": {},
   "outputs": [],
   "source": [
    "phrase_1= \"Насколько проще было бы писать программы, если бы не заказчики\"\n",
    "phrase_2= \"640Кб должно хватить для любых задач. Билл Гейтс (по легенде)\"\n"
   ]
  },
  {
   "cell_type": "code",
   "execution_count": 11,
   "id": "ddf4b58f",
   "metadata": {},
   "outputs": [
    {
     "name": "stdout",
     "output_type": "stream",
     "text": [
      "Вторая фраза длинее первой\n",
      "Конец программы\n"
     ]
    }
   ],
   "source": [
    "if len (phrase_1) < len (phrase_2):\n",
    "    print (\"Фраза 1 длинее второй\")\n",
    "else:\n",
    "    print (\"Вторая фраза длинее первой\")\n",
    "print (\"Конец программы\")\n",
    "    "
   ]
  },
  {
   "cell_type": "markdown",
   "id": "ef359c38",
   "metadata": {},
   "source": [
    "### Задание 2\n",
    "Дана переменная, в которой хранится четырехзначное число (год). Необходимо написать программу, которая выведет, является ли данный год високосным или обычным."
   ]
  },
  {
   "cell_type": "code",
   "execution_count": 16,
   "id": "a6255d49",
   "metadata": {},
   "outputs": [
    {
     "name": "stdout",
     "output_type": "stream",
     "text": [
      "2016 -високосный год\n"
     ]
    }
   ],
   "source": [
    "year =2016\n",
    "\n",
    "if year % 4 ==0:\n",
    "    print (year, '-високосный год')\n",
    "else:\n",
    "    print (year, '-невисокосный год')"
   ]
  },
  {
   "cell_type": "markdown",
   "id": "c7a7749b",
   "metadata": {},
   "source": [
    "### Задание 3\n",
    "Необходимо написать программу, которая будет запрашивать у пользователя месяц и дату рождения и выводить соответствующий знак зодиака."
   ]
  },
  {
   "cell_type": "code",
   "execution_count": 34,
   "id": "2748c2a2",
   "metadata": {},
   "outputs": [
    {
     "name": "stdout",
     "output_type": "stream",
     "text": [
      "Введите день12\n",
      "Введите месяц \\(числом: 3,4 и т.д.)7\n",
      "Знак зодиака:Рак\n",
      "Конец программы\n"
     ]
    }
   ],
   "source": [
    "date=int(input(\"Введите день\"))\n",
    "month=int(input(\"Введите месяц \\(числом: 3,4 и т.д.)\"))\n",
    "\n",
    "if (date>=21 and date<=31 and month==3) or( month==4 and date>=1 and date<=19):\n",
    "    print(\"Знак зодиака:Овен\")\n",
    "elif (date>=20 and date<=30 and month==4) or( month==5 and date>=1 and date<=20):\n",
    "    print(\"Знак зодиака:Телец\")\n",
    "elif (date>=21 and date<=31 and month==5) or( month==6 and date>=1 and date<=21):\n",
    "    print(\"Знак зодиака:Близнецы\")\n",
    "elif (date>=22 and date<=30 and month==6) or( month==7 and date>=1 and date<=22):\n",
    "    print(\"Знак зодиака:Рак\")\n",
    "elif (date>=23 and date<=31 and month==7) or( month==8 and date>=1 and date<=22):\n",
    "    print(\"Знак зодиака:Лев\")\n",
    "elif (date>=23 and date<=31 and month==8) or( month==9 and date>=1 and date<=22):\n",
    "    print(\"Знак зодиака:Дева\")\n",
    "elif (date>=23 and date<=30 and month==9) or( month==10 and date>=1 and date<=23):\n",
    "     print(\"Знак зодиака:Весы\")\n",
    "elif (date>=24 and date<=31 and month==10) or( month==11 and date>=1 and date<=22):\n",
    "    print(\"Знак зодиака:Скорпион\")\n",
    "elif (date>=23 and date<=30 and month==11) or( month==12 and date>=1 and date<=21):\n",
    "    print(\"Знак зодиака:Стрелец\")\n",
    "elif (date>=22 and date<=31 and month==12) or( month==1 and date>=1 and date<=20):\n",
    "    print(\"Знак зодиака:Козерог\")\n",
    "elif (date>=21 and date<=31 and month==1) or( month==2 and date>=1 and date<=18):\n",
    "    print(\"Знак зодиака:Водолей\")\n",
    "elif (date>=19 and date<=29 and month==2) or( month==3 and date>=1 and date<=20):\n",
    "    print(\"Знак зодиака:Рыбы\")\n",
    "print(\"Конец программы\")\n"
   ]
  },
  {
   "cell_type": "markdown",
   "id": "541c7bf9",
   "metadata": {},
   "source": [
    "### Задание 4\n",
    "Вам нужно написать программу для подбора упаковок по размерам товара. Размеры хранятся в переменных (в сантиметрах):\n",
    "\n",
    "width = 10\n",
    "length = 205\n",
    "height = 5\n",
    "Используйте следующие правила:\n",
    "\n",
    "если каждое из трех измерений менее 15 сантиметров, то выведите на экран “Коробка №1”;\n",
    "если хотя бы одно из измерений больше 15 сантиметров, но менее 50 сантиметров, то выводите “Коробка №2”;\n",
    "если длина товара больше 2 метров, то выводите “Упаковка для лыж”;\n",
    "во всех остальных случаях выводите “Стандартная коробка №3”."
   ]
  },
  {
   "cell_type": "code",
   "execution_count": 26,
   "id": "ba933abf",
   "metadata": {},
   "outputs": [
    {
     "name": "stdout",
     "output_type": "stream",
     "text": [
      "Коробка №2\n"
     ]
    }
   ],
   "source": [
    "width=10\n",
    "length=200\n",
    "height=5\n",
    "\n",
    "if length>200:\n",
    "    print (\"Упаковка для лыж\")\n",
    "elif width<15 and length<15 and height<15:\n",
    "    print (\"Коробка №1\")\n",
    "elif width<50 or length<50 or height<50:\n",
    "    print (\"Коробка №2\")\n",
    "else:\n",
    "    print (\"Стандартная коробка №3\")"
   ]
  }
 ],
 "metadata": {
  "kernelspec": {
   "display_name": "Python 3",
   "language": "python",
   "name": "python3"
  },
  "language_info": {
   "codemirror_mode": {
    "name": "ipython",
    "version": 3
   },
   "file_extension": ".py",
   "mimetype": "text/x-python",
   "name": "python",
   "nbconvert_exporter": "python",
   "pygments_lexer": "ipython3",
   "version": "3.8.8"
  }
 },
 "nbformat": 4,
 "nbformat_minor": 5
}
